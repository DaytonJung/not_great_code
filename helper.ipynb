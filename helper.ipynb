{
 "cells": [
  {
   "cell_type": "code",
   "execution_count": null,
   "id": "15aa0491",
   "metadata": {},
   "outputs": [],
   "source": [
    "# Helper notebook so you can run pycodestyle without opening a terminal"
   ]
  },
  {
   "cell_type": "code",
   "execution_count": 1,
   "id": "48d146c0",
   "metadata": {},
   "outputs": [
    {
     "name": "stdout",
     "output_type": "stream",
     "text": [
      "not_great.py:4:1: E303 too many blank lines (3)\n",
      "not_great.py:4:20: E401 multiple imports on one line\n",
      "not_great.py:7:9: E225 missing whitespace around operator\n",
      "not_great.py:16:19: W291 trailing whitespace\n",
      "not_great.py:19:16: E225 missing whitespace around operator\n",
      "not_great.py:19:30: E702 multiple statements on one line (semicolon)\n",
      "not_great.py:19:70: E225 missing whitespace around operator\n",
      "not_great.py:19:80: E501 line too long (88 > 79 characters)\n",
      "not_great.py:20:24: E225 missing whitespace around operator\n",
      "not_great.py:21:26: E225 missing whitespace around operator\n",
      "not_great.py:24:55: E225 missing whitespace around operator\n",
      "not_great.py:24:80: E501 line too long (124 > 79 characters)\n",
      "not_great.py:28:9: E303 too many blank lines (3)\n",
      "not_great.py:30:1: E305 expected 2 blank lines after class or function definition, found 1\n",
      "not_great.py:30:24: E225 missing whitespace around operator\n",
      "not_great.py:33:2: E221 multiple spaces before operator\n",
      "not_great.py:37:25: E231 missing whitespace after ','\n",
      "not_great.py:37:44: E231 missing whitespace after ','\n",
      "not_great.py:37:58: E231 missing whitespace after ','\n",
      "not_great.py:38:29: E231 missing whitespace after ','\n",
      "not_great.py:38:52: E231 missing whitespace after ','\n",
      "not_great.py:38:66: E231 missing whitespace after ','\n",
      "not_great.py:39:26: E203 whitespace before ','\n",
      "not_great.py:39:27: E231 missing whitespace after ','\n",
      "not_great.py:39:45: E231 missing whitespace after ','\n",
      "not_great.py:39:64: E231 missing whitespace after ','\n",
      "not_great.py:40:36: E231 missing whitespace after ','\n",
      "not_great.py:40:49: E231 missing whitespace after ','\n",
      "not_great.py:40:62: E231 missing whitespace after ','\n",
      "not_great.py:40:80: E501 line too long (80 > 79 characters)\n",
      "not_great.py:42:19: E231 missing whitespace after ','\n",
      "not_great.py:48:1: W391 blank line at end of file\n"
     ]
    }
   ],
   "source": [
    "!pycodestyle not_great.py\n"
   ]
  },
  {
   "cell_type": "code",
   "execution_count": 2,
   "id": "49d1f15e",
   "metadata": {},
   "outputs": [
    {
     "name": "stdout",
     "output_type": "stream",
     "text": [
      "Collecting pycodestyle\n",
      "  Downloading pycodestyle-2.11.1-py2.py3-none-any.whl.metadata (4.5 kB)\n",
      "Downloading pycodestyle-2.11.1-py2.py3-none-any.whl (31 kB)\n",
      "Installing collected packages: pycodestyle\n",
      "Successfully installed pycodestyle-2.11.1\n"
     ]
    }
   ],
   "source": [
    "! pip install pycodestyle"
   ]
  },
  {
   "cell_type": "code",
   "execution_count": null,
   "id": "3cec5ec5-4d51-4959-9677-8b1e266d87cf",
   "metadata": {},
   "outputs": [],
   "source": []
  }
 ],
 "metadata": {
  "kernelspec": {
   "display_name": "Python 3 (ipykernel)",
   "language": "python",
   "name": "python3"
  },
  "language_info": {
   "codemirror_mode": {
    "name": "ipython",
    "version": 3
   },
   "file_extension": ".py",
   "mimetype": "text/x-python",
   "name": "python",
   "nbconvert_exporter": "python",
   "pygments_lexer": "ipython3",
   "version": "3.11.6"
  }
 },
 "nbformat": 4,
 "nbformat_minor": 5
}
