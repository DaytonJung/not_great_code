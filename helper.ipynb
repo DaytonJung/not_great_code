{
 "cells": [
  {
   "cell_type": "code",
   "execution_count": 3,
   "id": "15aa0491",
   "metadata": {},
   "outputs": [
    {
     "name": "stdout",
     "output_type": "stream",
     "text": [
      "Requirement already satisfied: pycodestyle in /opt/anaconda3/lib/python3.12/site-packages (2.11.1)\n"
     ]
    }
   ],
   "source": [
    "# Helper notebook so you can run pycodestyle without opening a terminal"
   ]
  },
  {
   "cell_type": "code",
   "execution_count": 14,
   "id": "48d146c0",
   "metadata": {},
   "outputs": [
    {
     "name": "stdout",
     "output_type": "stream",
     "text": [
      "not_great.py:10:9: E225 missing whitespace around operator\n",
      "not_great.py:19:19: W291 trailing whitespace\n",
      "not_great.py:22:16: E225 missing whitespace around operator\n",
      "not_great.py:22:30: E702 multiple statements on one line (semicolon)\n",
      "not_great.py:22:70: E225 missing whitespace around operator\n",
      "not_great.py:22:80: E501 line too long (88 > 79 characters)\n",
      "not_great.py:23:24: E225 missing whitespace around operator\n",
      "not_great.py:24:26: E225 missing whitespace around operator\n",
      "not_great.py:27:55: E225 missing whitespace around operator\n",
      "not_great.py:27:80: E501 line too long (124 > 79 characters)\n",
      "not_great.py:31:9: E303 too many blank lines (3)\n",
      "not_great.py:33:1: E305 expected 2 blank lines after class or function definition, found 1\n",
      "not_great.py:33:24: E225 missing whitespace around operator\n",
      "not_great.py:36:2: E221 multiple spaces before operator\n",
      "not_great.py:40:25: E231 missing whitespace after ','\n",
      "not_great.py:40:44: E231 missing whitespace after ','\n",
      "not_great.py:40:58: E231 missing whitespace after ','\n",
      "not_great.py:41:29: E231 missing whitespace after ','\n",
      "not_great.py:41:52: E231 missing whitespace after ','\n",
      "not_great.py:41:66: E231 missing whitespace after ','\n",
      "not_great.py:42:26: E203 whitespace before ','\n",
      "not_great.py:42:27: E231 missing whitespace after ','\n",
      "not_great.py:42:45: E231 missing whitespace after ','\n",
      "not_great.py:42:64: E231 missing whitespace after ','\n",
      "not_great.py:43:36: E231 missing whitespace after ','\n",
      "not_great.py:43:49: E231 missing whitespace after ','\n",
      "not_great.py:43:62: E231 missing whitespace after ','\n",
      "not_great.py:43:80: E501 line too long (80 > 79 characters)\n",
      "not_great.py:45:19: E231 missing whitespace after ','\n",
      "not_great.py:49:1: W391 blank line at end of file\n"
     ]
    }
   ],
   "source": [
    "!pycodestyle not_great.py\n"
   ]
  },
  {
   "cell_type": "code",
   "execution_count": null,
   "id": "49d1f15e",
   "metadata": {},
   "outputs": [],
   "source": []
  }
 ],
 "metadata": {
  "kernelspec": {
   "display_name": "Python 3 (ipykernel)",
   "language": "python",
   "name": "python3"
  },
  "language_info": {
   "codemirror_mode": {
    "name": "ipython",
    "version": 3
   },
   "file_extension": ".py",
   "mimetype": "text/x-python",
   "name": "python",
   "nbconvert_exporter": "python",
   "pygments_lexer": "ipython3",
   "version": "3.12.4"
  }
 },
 "nbformat": 4,
 "nbformat_minor": 5
}
